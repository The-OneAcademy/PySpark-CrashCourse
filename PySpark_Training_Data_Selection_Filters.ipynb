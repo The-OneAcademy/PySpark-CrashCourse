{
  "nbformat": 4,
  "nbformat_minor": 0,
  "metadata": {
    "colab": {
      "provenance": []
    },
    "kernelspec": {
      "name": "python3",
      "display_name": "Python 3"
    },
    "language_info": {
      "name": "python"
    }
  },
  "cells": [
    {
      "cell_type": "code",
      "execution_count": null,
      "metadata": {
        "id": "jDHRAKSyaXwq",
        "collapsed": true
      },
      "outputs": [],
      "source": [
        "!apt-get install openjdk-8-jdk-headless -qq > /dev/null\n",
        "!wget -q http://archive.apache.org/dist/spark/spark-3.1.1/spark-3.1.1-bin-hadoop3.2.tgz\n",
        "!tar xf spark-3.1.1-bin-hadoop3.2.tgz\n",
        "!pip install -q findspark\n",
        "import os\n",
        "os.environ[\"JAVA_HOME\"] = \"/usr/lib/jvm/java-8-openjdk-amd64\"\n",
        "os.environ[\"SPARK_HOME\"] = \"/content/spark-3.1.1-bin-hadoop3.2\"\n",
        "import findspark\n",
        "findspark.init()\n",
        "from pyspark.sql import SparkSession\n",
        "spark = SparkSession.builder.master(\"local[*]\").getOrCreate()\n",
        "spark"
      ]
    },
    {
      "cell_type": "markdown",
      "source": [
        "**Ingest Data**"
      ],
      "metadata": {
        "id": "BPYREJmuOqVz"
      }
    },
    {
      "cell_type": "code",
      "source": [
        "from pyspark.sql.types import *\n",
        "myschema = StructType([\n",
        " StructField('id', IntegerType()),\n",
        " StructField('first_name', StringType()),\n",
        " StructField('last_name', StringType()),\n",
        " StructField('gender', StringType()),\n",
        " StructField('City', StringType()),\n",
        " StructField('JobTitle', StringType()),\n",
        " StructField('Salary', StringType()),\n",
        " StructField('Latitude', FloatType()),\n",
        " StructField('Longitude', FloatType())\n",
        "])\n",
        "\n",
        "df = spark.read.csv(\"original.csv\", header=True, schema=myschema)\n",
        "df.show()"
      ],
      "metadata": {
        "id": "WXuOwbayg6L0"
      },
      "execution_count": null,
      "outputs": []
    },
    {
      "cell_type": "markdown",
      "source": [
        "**Select First Name and Last Name from DataFrame**"
      ],
      "metadata": {
        "id": "OTyFlc_2OzLR"
      }
    },
    {
      "cell_type": "code",
      "source": [
        "df_select = df.select(\"first_name\",\"last_name\")\n",
        "df_select.show()"
      ],
      "metadata": {
        "id": "OvabeR-WhJHK"
      },
      "execution_count": null,
      "outputs": []
    },
    {
      "cell_type": "markdown",
      "source": [
        "**Rename the column Name**"
      ],
      "metadata": {
        "id": "LTMGrLfgO9dZ"
      }
    },
    {
      "cell_type": "code",
      "source": [
        "df_renamed = df.withColumnRenamed(\"first_name\",\"fn\")\n",
        "df_renamed.show()"
      ],
      "metadata": {
        "id": "Xw3pWLpLhYls"
      },
      "execution_count": null,
      "outputs": []
    },
    {
      "cell_type": "markdown",
      "source": [
        "**Filter Name using == **"
      ],
      "metadata": {
        "id": "MUPIUob2PG__"
      }
    },
    {
      "cell_type": "code",
      "source": [
        "df_filter = df.filter(df.first_name == 'Alvera')\n",
        "df_filter.show()"
      ],
      "metadata": {
        "id": "FbERt8fHhq9D"
      },
      "execution_count": null,
      "outputs": []
    },
    {
      "cell_type": "markdown",
      "source": [
        "**Filter Name using LIKE **"
      ],
      "metadata": {
        "id": "8JfxkHP1PQM2"
      }
    },
    {
      "cell_type": "code",
      "source": [
        "df_filter = df.filter(df.first_name.like( '%lver%'))\n",
        "df_filter.show()"
      ],
      "metadata": {
        "id": "kUw7EMAfiAvy"
      },
      "execution_count": null,
      "outputs": []
    },
    {
      "cell_type": "markdown",
      "source": [
        "**Filter Name using endswith **"
      ],
      "metadata": {
        "id": "R8OdidzdPVhP"
      }
    },
    {
      "cell_type": "code",
      "source": [
        "df_filter = df.filter(df.first_name.endswith( 'din'))\n",
        "df_filter.show()"
      ],
      "metadata": {
        "id": "M-otBUZ1iO8S"
      },
      "execution_count": null,
      "outputs": []
    },
    {
      "cell_type": "markdown",
      "source": [
        "**Filter Name using startswith **"
      ],
      "metadata": {
        "id": "GZKEItaSPgzf"
      }
    },
    {
      "cell_type": "code",
      "source": [
        "df_filter = df.filter(df.first_name.startswith( 'Alv'))\n",
        "df_filter.show()"
      ],
      "metadata": {
        "id": "ElLX9j7ZiYoZ"
      },
      "execution_count": null,
      "outputs": []
    },
    {
      "cell_type": "markdown",
      "source": [
        "**Filter Name using between **"
      ],
      "metadata": {
        "id": "1D3sdGpePqyL"
      }
    },
    {
      "cell_type": "code",
      "source": [
        "df_filter = df.filter(df.id.between(1,5))\n",
        "df_filter.show()"
      ],
      "metadata": {
        "id": "yn7MsfBci0GQ"
      },
      "execution_count": null,
      "outputs": []
    },
    {
      "cell_type": "markdown",
      "source": [
        "**Filter Name using isin **"
      ],
      "metadata": {
        "id": "hQeWgafFPyyS"
      }
    },
    {
      "cell_type": "code",
      "source": [
        "df_filter = df.filter(df.first_name.isin('Aldin','Valma'))\n",
        "df_filter.show()"
      ],
      "metadata": {
        "id": "0F8WdXgZjJfx"
      },
      "execution_count": null,
      "outputs": []
    },
    {
      "cell_type": "markdown",
      "source": [
        "**Filter Name using Substring and with alias **"
      ],
      "metadata": {
        "id": "q1R1x2SGP2Wd"
      }
    },
    {
      "cell_type": "code",
      "source": [
        "df_substr = df.select(df.first_name, df.first_name.substr(1,5).alias('name'))\n",
        "df_substr.show()"
      ],
      "metadata": {
        "id": "j4-v-itJjdtb"
      },
      "execution_count": null,
      "outputs": []
    },
    {
      "cell_type": "markdown",
      "source": [
        "Applying Multiple Filters\n",
        "\n",
        "And or Not (& | !) condition\n"
      ],
      "metadata": {
        "id": "9NS-x_9Ask1j"
      }
    },
    {
      "cell_type": "code",
      "source": [
        "df_filter = df.filter((df.first_name.isin('Aldin','Valma')) & (df.City.like('%ondon')) )\n",
        "df_filter.show()"
      ],
      "metadata": {
        "id": "dc3aDRLassA3"
      },
      "execution_count": null,
      "outputs": []
    },
    {
      "cell_type": "markdown",
      "source": [
        "**Filter Name using Greater ( > ) than lessthan ( < )  **"
      ],
      "metadata": {
        "id": "Mg-1XvI4QRzU"
      }
    },
    {
      "cell_type": "code",
      "source": [
        "df_filter = df.filter((df.id>10) &(df.id <100))\n",
        "df_filter.show()"
      ],
      "metadata": {
        "id": "URJtQV3Ctuer"
      },
      "execution_count": null,
      "outputs": []
    },
    {
      "cell_type": "code",
      "source": [],
      "metadata": {
        "id": "YFGbs4eQQcpI"
      },
      "execution_count": null,
      "outputs": []
    },
    {
      "cell_type": "code",
      "source": [],
      "metadata": {
        "id": "Z1kC0lXEuF21"
      },
      "execution_count": null,
      "outputs": []
    }
  ]
}