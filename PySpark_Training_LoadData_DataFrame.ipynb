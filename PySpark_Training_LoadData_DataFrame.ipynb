{
  "nbformat": 4,
  "nbformat_minor": 0,
  "metadata": {
    "colab": {
      "provenance": []
    },
    "kernelspec": {
      "name": "python3",
      "display_name": "Python 3"
    },
    "language_info": {
      "name": "python"
    }
  },
  "cells": [
    {
      "cell_type": "code",
      "execution_count": null,
      "metadata": {
        "id": "51ZrcpZYKusJ"
      },
      "outputs": [],
      "source": [
        "!apt-get install openjdk-8-jdk-headless -qq > /dev/null\n",
        "!wget -q http://archive.apache.org/dist/spark/spark-3.1.1/spark-3.1.1-bin-hadoop3.2.tgz\n",
        "!tar xf spark-3.1.1-bin-hadoop3.2.tgz\n",
        "!pip install -q findspark\n",
        "import os\n",
        "os.environ[\"JAVA_HOME\"] = \"/usr/lib/jvm/java-8-openjdk-amd64\"\n",
        "os.environ[\"SPARK_HOME\"] = \"/content/spark-3.1.1-bin-hadoop3.2\"\n",
        "import findspark\n",
        "findspark.init()\n",
        "from pyspark.sql import SparkSession\n",
        "spark = SparkSession.builder.master(\"local[*]\").getOrCreate()\n",
        "spark"
      ]
    },
    {
      "cell_type": "markdown",
      "source": [
        "** Ingest Data Step1 **"
      ],
      "metadata": {
        "id": "wRUpMEEvRrzv"
      }
    },
    {
      "cell_type": "code",
      "source": [
        "df = spark.read.format(\"csv\").option(\"header\",\"true\").load(\"original.csv\")\n",
        "df.show()"
      ],
      "metadata": {
        "id": "QXzfGntyLTI7"
      },
      "execution_count": null,
      "outputs": []
    },
    {
      "cell_type": "markdown",
      "source": [
        "** Ingest Data Step2 **"
      ],
      "metadata": {
        "id": "ZA84xt8aR-NB"
      }
    },
    {
      "cell_type": "code",
      "source": [
        "df2 = spark.read.csv(\"original.csv\", header=True)\n",
        "df2.show()"
      ],
      "metadata": {
        "id": "NAvGZWtJLscw"
      },
      "execution_count": null,
      "outputs": []
    },
    {
      "cell_type": "markdown",
      "source": [
        "**Get the datatypes**"
      ],
      "metadata": {
        "id": "33LGyPdhSD3L"
      }
    },
    {
      "cell_type": "code",
      "source": [
        "df2.dtypes"
      ],
      "metadata": {
        "id": "PohfYL8QMCK6"
      },
      "execution_count": null,
      "outputs": []
    },
    {
      "cell_type": "markdown",
      "source": [
        "** Ingest Data Step3 **\n",
        "Using Schema"
      ],
      "metadata": {
        "id": "2dS2dVImSKxt"
      }
    },
    {
      "cell_type": "code",
      "source": [
        "from pyspark.sql.types import *\n",
        "schema = StructType([\n",
        " StructField('id', IntegerType()),\n",
        " StructField('first_name', StringType()),\n",
        " StructField('last_name', StringType()),\n",
        " StructField('gender', StringType()),\n",
        " StructField('City', StringType()),\n",
        " StructField('JobTitle', StringType()),\n",
        " StructField('Salary', StringType()),\n",
        " StructField('Latitude', StringType()),\n",
        " StructField('Longitude', FloatType())\n",
        "])\n",
        "\n",
        "df3 = spark.read.csv(\"original.csv\", header=True, schema=schema)\n",
        "df3.show()"
      ],
      "metadata": {
        "id": "ORKYwvCpMcAK"
      },
      "execution_count": null,
      "outputs": []
    },
    {
      "cell_type": "markdown",
      "source": [
        "**Show data type**"
      ],
      "metadata": {
        "id": "MhraoGWDSSoT"
      }
    },
    {
      "cell_type": "code",
      "source": [
        "df3.dtypes"
      ],
      "metadata": {
        "id": "BxqXzM4BN6qn"
      },
      "execution_count": null,
      "outputs": []
    },
    {
      "cell_type": "code",
      "source": [],
      "metadata": {
        "id": "3mUnGgCcOClu"
      },
      "execution_count": null,
      "outputs": []
    }
  ]
}