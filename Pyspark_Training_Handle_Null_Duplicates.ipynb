{
  "nbformat": 4,
  "nbformat_minor": 0,
  "metadata": {
    "colab": {
      "provenance": []
    },
    "kernelspec": {
      "name": "python3",
      "display_name": "Python 3"
    },
    "language_info": {
      "name": "python"
    }
  },
  "cells": [
    {
      "cell_type": "code",
      "execution_count": null,
      "metadata": {
        "id": "8RVKn1NpQt0E"
      },
      "outputs": [],
      "source": [
        "!apt-get install openjdk-8-jdk-headless -qq > /dev/null\n",
        "!wget -q http://archive.apache.org/dist/spark/spark-3.1.1/spark-3.1.1-bin-hadoop3.2.tgz\n",
        "!tar xf spark-3.1.1-bin-hadoop3.2.tgz\n",
        "!pip install -q findspark\n",
        "import os\n",
        "os.environ[\"JAVA_HOME\"] = \"/usr/lib/jvm/java-8-openjdk-amd64\"\n",
        "os.environ[\"SPARK_HOME\"] = \"/content/spark-3.1.1-bin-hadoop3.2\"\n",
        "import findspark\n",
        "findspark.init()\n",
        "from pyspark.sql import SparkSession\n",
        "spark = SparkSession.builder.master(\"local[*]\").getOrCreate()\n",
        "spark"
      ]
    },
    {
      "cell_type": "markdown",
      "source": [
        "## **INGEST**"
      ],
      "metadata": {
        "id": "Mk0SBfuSOxaq"
      }
    },
    {
      "cell_type": "code",
      "source": [
        "from pyspark.sql.types import *\n",
        "myschema = StructType([\n",
        " StructField('id', IntegerType()),\n",
        " StructField('first_name', StringType()),\n",
        " StructField('last_name', StringType()),\n",
        " StructField('gender', StringType()),\n",
        " StructField('City', StringType()),\n",
        " StructField('JobTitle', StringType()),\n",
        " StructField('Salary', StringType()),\n",
        " StructField('Latitude', FloatType()),\n",
        " StructField('Longitude', FloatType())\n",
        "])\n",
        "\n",
        "df = spark.read.csv(\"original.csv\", header=True, schema=myschema)\n",
        "df.show()"
      ],
      "metadata": {
        "id": "UTm_b0NERPHl"
      },
      "execution_count": null,
      "outputs": []
    },
    {
      "cell_type": "markdown",
      "source": [
        "## **NO NULL VALUES**"
      ],
      "metadata": {
        "id": "7fV5djcmPEpt"
      }
    },
    {
      "cell_type": "code",
      "source": [
        "df_dropped = df.na.drop()\n",
        "df_dropped.show()"
      ],
      "metadata": {
        "id": "VeXLBo7qRY7p"
      },
      "execution_count": null,
      "outputs": []
    },
    {
      "cell_type": "markdown",
      "source": [
        "## **filter JobTitle isNotNull**"
      ],
      "metadata": {
        "id": "PAcoq-XMPTj4"
      }
    },
    {
      "cell_type": "code",
      "source": [
        "df_null_jobs = df.filter(df.JobTitle.isNotNull())\n",
        "df_null_jobs.show()"
      ],
      "metadata": {
        "id": "iK-btRkTRib6"
      },
      "execution_count": null,
      "outputs": []
    },
    {
      "cell_type": "markdown",
      "source": [
        "** withColumn = Clean_City\n",
        " when(df.City.isNull(), 'Unknown')\n",
        " otherwise(df.City) **"
      ],
      "metadata": {
        "id": "-cYVRZJvPz9J"
      }
    },
    {
      "cell_type": "code",
      "source": [
        "from pyspark.sql.functions import *\n",
        "df_handled = df.withColumn(\"Clean_City\", when(df.City.isNull(), 'Unknown').otherwise(df.City))\n",
        "df_handled.show()"
      ],
      "metadata": {
        "id": "ggkFM4OhR9H2"
      },
      "execution_count": null,
      "outputs": []
    },
    {
      "cell_type": "markdown",
      "source": [
        "## **dropDuplicates**"
      ],
      "metadata": {
        "id": "i9L12gyeQBOv"
      }
    },
    {
      "cell_type": "code",
      "source": [
        "df_no_duplicates = df.dropDuplicates()\n",
        "df_no_duplicates.show()"
      ],
      "metadata": {
        "id": "-te_Luv_ZCRm"
      },
      "execution_count": null,
      "outputs": []
    },
    {
      "cell_type": "code",
      "source": [],
      "metadata": {
        "id": "UP4HtaRVZcCk"
      },
      "execution_count": null,
      "outputs": []
    }
  ]
}