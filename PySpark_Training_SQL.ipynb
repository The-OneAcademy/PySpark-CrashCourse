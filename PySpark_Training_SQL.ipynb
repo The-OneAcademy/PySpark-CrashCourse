{
  "nbformat": 4,
  "nbformat_minor": 0,
  "metadata": {
    "colab": {
      "provenance": []
    },
    "kernelspec": {
      "name": "python3",
      "display_name": "Python 3"
    },
    "language_info": {
      "name": "python"
    }
  },
  "cells": [
    {
      "cell_type": "code",
      "execution_count": null,
      "metadata": {
        "id": "o1e6qPaaztmF"
      },
      "outputs": [],
      "source": [
        "!apt-get install openjdk-8-jdk-headless -qq > /dev/null\n",
        "!wget -q http://archive.apache.org/dist/spark/spark-3.1.1/spark-3.1.1-bin-hadoop3.2.tgz\n",
        "!tar xf spark-3.1.1-bin-hadoop3.2.tgz\n",
        "!pip install -q findspark\n",
        "import os\n",
        "os.environ[\"JAVA_HOME\"] = \"/usr/lib/jvm/java-8-openjdk-amd64\"\n",
        "os.environ[\"SPARK_HOME\"] = \"/content/spark-3.1.1-bin-hadoop3.2\"\n",
        "import findspark\n",
        "findspark.init()\n",
        "from pyspark.sql import SparkSession\n",
        "spark = SparkSession.builder.master(\"local[*]\").getOrCreate()\n",
        "spark"
      ]
    },
    {
      "cell_type": "markdown",
      "source": [
        "## **INGEST USING SCHEMA**"
      ],
      "metadata": {
        "id": "ercBX2vrUM0f"
      }
    },
    {
      "cell_type": "code",
      "source": [
        "from pyspark.sql.types import *\n",
        "schema = StructType([\n",
        " StructField('id', IntegerType()),\n",
        " StructField('first_name', StringType()),\n",
        " StructField('last_name', StringType()),\n",
        " StructField('gender', StringType()),\n",
        " StructField('City', StringType()),\n",
        " StructField('JobTitle', StringType()),\n",
        " StructField('Salary', StringType()),\n",
        " StructField('Latitude', FloatType()),\n",
        " StructField('Longitude', FloatType())\n",
        "])\n",
        "\n",
        "df = spark.read.csv(\"original.csv\", header=True, schema=schema)\n",
        "df.show()"
      ],
      "metadata": {
        "id": "FgTiYBck0Ray"
      },
      "execution_count": null,
      "outputs": []
    },
    {
      "cell_type": "markdown",
      "source": [
        "## **CREATE TEMP TABLE / VIEW**"
      ],
      "metadata": {
        "id": "DBQhsuXPUVfs"
      }
    },
    {
      "cell_type": "code",
      "source": [
        "df.registerTempTable(\"original\")"
      ],
      "metadata": {
        "id": "oFqS2Pl70qwH"
      },
      "execution_count": null,
      "outputs": []
    },
    {
      "cell_type": "markdown",
      "source": [
        "## **SPARK SQL SELECT STATEMENT**"
      ],
      "metadata": {
        "id": "xnPjeNYlUgkd"
      }
    },
    {
      "cell_type": "code",
      "source": [
        "query1 = spark.sql('select * from original')\n",
        "query1.show()"
      ],
      "metadata": {
        "id": "Wj1McpLo04lg"
      },
      "execution_count": null,
      "outputs": []
    },
    {
      "cell_type": "markdown",
      "source": [
        "## **SPARK SQL SELECT STATEMENT CONCAT AND WHERE CONDITION**"
      ],
      "metadata": {
        "id": "0ZYlNmX0U2Mw"
      }
    },
    {
      "cell_type": "code",
      "source": [
        "query2 = spark.sql('select concat(first_name,\" \", last_name) as full_name from original where gender=\"Female\"')\n",
        "query2.show()"
      ],
      "metadata": {
        "id": "O1GMcVxw1UKI"
      },
      "execution_count": null,
      "outputs": []
    },
    {
      "cell_type": "markdown",
      "source": [
        "Using With Column"
      ],
      "metadata": {
        "id": "pVxa3_PL2Juo"
      }
    },
    {
      "cell_type": "markdown",
      "source": [
        "## **WITHCOLUMN AND SUBSTRING TYPECAST**"
      ],
      "metadata": {
        "id": "7r_ZHYJdVJca"
      }
    },
    {
      "cell_type": "code",
      "source": [
        "from pyspark.sql.functions import *\n",
        "df = df.withColumn('clean_salary', df.Salary.substr(2,1000).cast('float') )\n",
        "df.show()"
      ],
      "metadata": {
        "id": "oHvHLD3T12yY"
      },
      "execution_count": null,
      "outputs": []
    },
    {
      "cell_type": "markdown",
      "source": [
        "## **WITHCOLUMN CALCULATE MONTHLY SALARY**"
      ],
      "metadata": {
        "id": "JoKv6eipVbey"
      }
    },
    {
      "cell_type": "code",
      "source": [
        "df = df.withColumn('monthly_salary', df.clean_salary/12)\n",
        "df.show()"
      ],
      "metadata": {
        "id": "ibsIgDE22xPk"
      },
      "execution_count": null,
      "outputs": []
    },
    {
      "cell_type": "markdown",
      "source": [
        "## **WITHCOLUMN / WHEN GENDER = FEMALE**"
      ],
      "metadata": {
        "id": "jgxuzSvFVncb"
      }
    },
    {
      "cell_type": "code",
      "source": [
        "df = df.withColumn('are they female', when(df.gender =='Female','Yes').otherwise('No'))\n",
        "df.show()"
      ],
      "metadata": {
        "id": "ESws0Rso3HmU"
      },
      "execution_count": null,
      "outputs": []
    },
    {
      "cell_type": "markdown",
      "source": [
        "Using GroupBy..."
      ],
      "metadata": {
        "id": "pa-ZFAoWJvX9"
      }
    },
    {
      "cell_type": "markdown",
      "source": [
        "## **WITHCOLUMN SUBSTRING REMOVE $ AND TYPECAST TO FLOAT**"
      ],
      "metadata": {
        "id": "A_lJzbCuVzdd"
      }
    },
    {
      "cell_type": "code",
      "source": [
        "from pyspark.sql.functions import *\n",
        "df = df.withColumn('clean_salary', df.Salary.substr(2,1000).cast('float') )\n",
        "df.show()"
      ],
      "metadata": {
        "id": "OzaPP_WR3cdc"
      },
      "execution_count": null,
      "outputs": []
    },
    {
      "cell_type": "code",
      "source": [
        "import pyspark.sql.functions as sqlfunc\n",
        "df1 = df.groupBy('gender').agg(sqlfunc.sum('clean_salary'))\n",
        "df1.show()"
      ],
      "metadata": {
        "id": "j3hHDmRMOA3D"
      },
      "execution_count": null,
      "outputs": []
    },
    {
      "cell_type": "markdown",
      "source": [
        "## **GROUPBY GENDER**"
      ],
      "metadata": {
        "id": "ryi64DjqXccK"
      }
    },
    {
      "cell_type": "code",
      "source": [
        "import pyspark.sql.functions as sqlfunc\n",
        "df1 = df.groupBy('gender').agg( sqlfunc.sum('clean_salary').alias('Total'),\n",
        "                                sqlfunc.avg('clean_salary').alias('Average'),\n",
        "                                sqlfunc.min('clean_salary').alias('Minimum'),\n",
        "                                sqlfunc.max('clean_salary').alias('Maximum'))\n",
        "df1.show()"
      ],
      "metadata": {
        "id": "mUpEHJihObbR"
      },
      "execution_count": null,
      "outputs": []
    },
    {
      "cell_type": "markdown",
      "source": [
        "## **GROUPBY GENDER AND CITY**"
      ],
      "metadata": {
        "id": "JI3Ire7rXj8i"
      }
    },
    {
      "cell_type": "code",
      "source": [
        "import pyspark.sql.functions as sqlfunc\n",
        "df1 = df.groupBy('gender','City').agg( sqlfunc.sum('clean_salary').alias('Total'),\n",
        "                                sqlfunc.avg('clean_salary').alias('Average'),\n",
        "                                sqlfunc.min('clean_salary').alias('Minimum'),\n",
        "                                sqlfunc.max('clean_salary').alias('Maximum'))\n",
        "df1.show()"
      ],
      "metadata": {
        "id": "bqWzdnocPT-K"
      },
      "execution_count": null,
      "outputs": []
    },
    {
      "cell_type": "markdown",
      "source": [
        "Writing DataFrames to Files"
      ],
      "metadata": {
        "id": "y5zu-3KmPxYc"
      }
    },
    {
      "cell_type": "code",
      "source": [
        "df1.write.csv('df1.csv')\n",
        "df1.write.json('df1.json')\n",
        "df1.write.parquet('df1.parquet')\n"
      ],
      "metadata": {
        "id": "N2eM1QQlPeJe"
      },
      "execution_count": null,
      "outputs": []
    }
  ]
}